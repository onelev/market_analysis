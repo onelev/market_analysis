{
 "cells": [
  {
   "cell_type": "markdown",
   "id": "2b4912c8",
   "metadata": {},
   "source": [
    "# Рынок заведений общественного питания Москвы"
   ]
  },
  {
   "cell_type": "markdown",
   "id": "ead69403",
   "metadata": {},
   "source": [
    "## Описание проекта:\n",
    "В планах открыть заведение, в котором посетителей будут обслуживать роботы. Это интересный проект, но дорогой, поэтому нам необходимы инвесторы. Инвесторы, в свою очередь, хотят знать положение дел на рынке. Таким образом необходимо провести исследование рынка и сделать выводы, сформировав это все в отчет."
   ]
  },
  {
   "cell_type": "markdown",
   "id": "c93cd737",
   "metadata": {},
   "source": [
    "## Описание данных\n",
    "Таблица **rest_data:**\n",
    "* id — идентификатор объекта;\n",
    "* object_name — название объекта общественного питания;\n",
    "* chain — сетевой ресторан;\n",
    "* object_type — тип объекта общественного питания;\n",
    "* address — адрес;\n",
    "* number — количество посадочных мест."
   ]
  },
  {
   "cell_type": "markdown",
   "id": "3b968c7d",
   "metadata": {},
   "source": [
    "## Предобработка данных"
   ]
  },
  {
   "cell_type": "code",
   "execution_count": 1,
   "id": "86146f53",
   "metadata": {},
   "outputs": [],
   "source": [
    "# импортируем необходимые библиотеки\n",
    "import pandas as pd\n",
    "import seaborn as sns\n",
    "import matplotlib.pyplot as plt\n",
    "import numpy as np"
   ]
  },
  {
   "cell_type": "code",
   "execution_count": 2,
   "id": "e0fabbd4",
   "metadata": {},
   "outputs": [],
   "source": [
    "try:\n",
    "    data = pd.read_csv('/path.csv')\n",
    "except:\n",
    "    data = pd.read_csv('/path/rest_data.csv')"
   ]
  },
  {
   "cell_type": "code",
   "execution_count": 3,
   "id": "70004e79",
   "metadata": {},
   "outputs": [
    {
     "data": {
      "text/html": [
       "<div>\n",
       "<style scoped>\n",
       "    .dataframe tbody tr th:only-of-type {\n",
       "        vertical-align: middle;\n",
       "    }\n",
       "\n",
       "    .dataframe tbody tr th {\n",
       "        vertical-align: top;\n",
       "    }\n",
       "\n",
       "    .dataframe thead th {\n",
       "        text-align: right;\n",
       "    }\n",
       "</style>\n",
       "<table border=\"1\" class=\"dataframe\">\n",
       "  <thead>\n",
       "    <tr style=\"text-align: right;\">\n",
       "      <th></th>\n",
       "      <th>id</th>\n",
       "      <th>object_name</th>\n",
       "      <th>chain</th>\n",
       "      <th>object_type</th>\n",
       "      <th>address</th>\n",
       "      <th>number</th>\n",
       "    </tr>\n",
       "  </thead>\n",
       "  <tbody>\n",
       "    <tr>\n",
       "      <th>0</th>\n",
       "      <td>151635</td>\n",
       "      <td>СМЕТАНА</td>\n",
       "      <td>нет</td>\n",
       "      <td>кафе</td>\n",
       "      <td>город Москва, улица Егора Абакумова, дом 9</td>\n",
       "      <td>48</td>\n",
       "    </tr>\n",
       "    <tr>\n",
       "      <th>1</th>\n",
       "      <td>77874</td>\n",
       "      <td>Родник</td>\n",
       "      <td>нет</td>\n",
       "      <td>кафе</td>\n",
       "      <td>город Москва, улица Талалихина, дом 2/1, корпус 1</td>\n",
       "      <td>35</td>\n",
       "    </tr>\n",
       "    <tr>\n",
       "      <th>2</th>\n",
       "      <td>24309</td>\n",
       "      <td>Кафе «Академия»</td>\n",
       "      <td>нет</td>\n",
       "      <td>кафе</td>\n",
       "      <td>город Москва, Абельмановская улица, дом 6</td>\n",
       "      <td>95</td>\n",
       "    </tr>\n",
       "    <tr>\n",
       "      <th>3</th>\n",
       "      <td>21894</td>\n",
       "      <td>ПИЦЦЕТОРИЯ</td>\n",
       "      <td>да</td>\n",
       "      <td>кафе</td>\n",
       "      <td>город Москва, Абрамцевская улица, дом 1</td>\n",
       "      <td>40</td>\n",
       "    </tr>\n",
       "    <tr>\n",
       "      <th>4</th>\n",
       "      <td>119365</td>\n",
       "      <td>Кафе «Вишневая метель»</td>\n",
       "      <td>нет</td>\n",
       "      <td>кафе</td>\n",
       "      <td>город Москва, Абрамцевская улица, дом 9, корпус 1</td>\n",
       "      <td>50</td>\n",
       "    </tr>\n",
       "  </tbody>\n",
       "</table>\n",
       "</div>"
      ],
      "text/plain": [
       "       id             object_name chain object_type  \\\n",
       "0  151635                 СМЕТАНА   нет        кафе   \n",
       "1   77874                  Родник   нет        кафе   \n",
       "2   24309         Кафе «Академия»   нет        кафе   \n",
       "3   21894              ПИЦЦЕТОРИЯ    да        кафе   \n",
       "4  119365  Кафе «Вишневая метель»   нет        кафе   \n",
       "\n",
       "                                             address  number  \n",
       "0         город Москва, улица Егора Абакумова, дом 9      48  \n",
       "1  город Москва, улица Талалихина, дом 2/1, корпус 1      35  \n",
       "2          город Москва, Абельмановская улица, дом 6      95  \n",
       "3            город Москва, Абрамцевская улица, дом 1      40  \n",
       "4  город Москва, Абрамцевская улица, дом 9, корпус 1      50  "
      ]
     },
     "execution_count": 3,
     "metadata": {},
     "output_type": "execute_result"
    }
   ],
   "source": [
    "data.head()"
   ]
  },
  {
   "cell_type": "code",
   "execution_count": 5,
   "id": "434aabd8",
   "metadata": {},
   "outputs": [
    {
     "data": {
      "text/plain": [
       "Столовая                   267\n",
       "Кафе                       236\n",
       "Шаурма                     234\n",
       "KFC                        155\n",
       "Шоколадница                142\n",
       "                          ... \n",
       "Столовая ТЦ «Энтузиаст»      1\n",
       "Охунова У.Д.                 1\n",
       "СОК ООО АВТОКОМБИНАТ 3       1\n",
       "АВТОКОМБИНАТ 3               1\n",
       "Кальянная «Мята Lounge»      1\n",
       "Name: object_name, Length: 10393, dtype: int64"
      ]
     },
     "execution_count": 5,
     "metadata": {},
     "output_type": "execute_result"
    }
   ],
   "source": [
    "# посчитаем уникальные названия в колонке имя объекта\n",
    "data['object_name'].value_counts()"
   ]
  },
  {
   "cell_type": "code",
   "execution_count": 6,
   "id": "e5b87ab1",
   "metadata": {},
   "outputs": [
    {
     "data": {
      "text/plain": [
       "столовая                      321\n",
       "кафе                          278\n",
       "шаурма                        250\n",
       "шоколадница                   158\n",
       "kfc                           155\n",
       "                             ... \n",
       "столовая гуп «мосгортранс»      1\n",
       "пиццерия «алло пицца»           1\n",
       "bizone антикафе                 1\n",
       "сирень                          1\n",
       "кальянная «мята lounge»         1\n",
       "Name: object_name, Length: 9924, dtype: int64"
      ]
     },
     "execution_count": 6,
     "metadata": {},
     "output_type": "execute_result"
    }
   ],
   "source": [
    "# приведем к единому регистру \n",
    "data['object_name'] = data['object_name'].str.lower()\n",
    "# проверим как изменилось кол-во уникальных названий\n",
    "data['object_name'].value_counts()"
   ]
  },
  {
   "cell_type": "code",
   "execution_count": 7,
   "id": "34a1538c",
   "metadata": {
    "scrolled": true
   },
   "outputs": [
    {
     "data": {
      "text/plain": [
       "мята lounge                  24\n",
       "кальянная мята lounge         1\n",
       "кальян-бар «мята lounge»      1\n",
       "кальян- бар «мята lounge»     1\n",
       "мята lounge шаболовка         1\n",
       "мята lounge автозаводская     1\n",
       "лаундж-бар «мята lounge»      1\n",
       "бар мята lounge               1\n",
       "мята lounge октябрьская       1\n",
       "кальянная «мята lounge»       1\n",
       "Name: object_name, dtype: int64"
      ]
     },
     "execution_count": 7,
     "metadata": {},
     "output_type": "execute_result"
    }
   ],
   "source": [
    "# мы нашли теоретически единую сеть, с разными названиями\n",
    "# подумать что с этим делать\n",
    "test = data[data['object_name'].str.contains(r'\\bмята lounge')]\n",
    "test = test.query('chain == \"да\"')\n",
    "test['object_name'].value_counts()"
   ]
  },
  {
   "cell_type": "code",
   "execution_count": 8,
   "id": "fc05b244",
   "metadata": {
    "scrolled": true
   },
   "outputs": [
    {
     "name": "stdout",
     "output_type": "stream",
     "text": [
      "<class 'pandas.core.frame.DataFrame'>\n",
      "RangeIndex: 15366 entries, 0 to 15365\n",
      "Data columns (total 6 columns):\n",
      " #   Column       Non-Null Count  Dtype \n",
      "---  ------       --------------  ----- \n",
      " 0   id           15366 non-null  int64 \n",
      " 1   object_name  15366 non-null  object\n",
      " 2   chain        15366 non-null  object\n",
      " 3   object_type  15366 non-null  object\n",
      " 4   address      15366 non-null  object\n",
      " 5   number       15366 non-null  int64 \n",
      "dtypes: int64(2), object(4)\n",
      "memory usage: 720.4+ KB\n"
     ]
    }
   ],
   "source": [
    "# проверим типы данных\n",
    "data.info()"
   ]
  },
  {
   "cell_type": "code",
   "execution_count": 9,
   "id": "f415636d",
   "metadata": {},
   "outputs": [
    {
     "data": {
      "image/png": "[encoded data removed]",
      "text/plain": [
       "<Figure size 720x360 with 1 Axes>"
      ]
     },
     "metadata": {
      "needs_background": "light"
     },
     "output_type": "display_data"
    }
   ],
   "source": [
    "# проверим типы общ. питания на выбросы по кол-ву мест\n",
    "plt.figure(figsize=(10,5))\n",
    "ax = sns.boxplot(x=data['object_type'], y=data['number'], palette='mako')\n",
    "ax.set_xticklabels(ax.get_xticklabels(),rotation=20, ha=\"right\")\n",
    "#ax.set_axis_label('Тип общественного питания')\n",
    "#ax.set_xlabel\n",
    "plt.xlabel('Тип предприятия общественного питания')\n",
    "plt.ylabel('Количество объектов')\n",
    "plt.axhline(y=400, color='red', linestyle='--')\n",
    "plt.show()"
   ]
  },
  {
   "cell_type": "code",
   "execution_count": 10,
   "id": "bbeda8a4",
   "metadata": {},
   "outputs": [
    {
     "data": {
      "text/plain": [
       "['кафе',\n",
       " 'столовая',\n",
       " 'закусочная',\n",
       " 'предприятие быстрого обслуживания',\n",
       " 'ресторан',\n",
       " 'кафетерий',\n",
       " 'буфет',\n",
       " 'бар',\n",
       " 'магазин (отдел кулинарии)']"
      ]
     },
     "execution_count": 10,
     "metadata": {},
     "output_type": "execute_result"
    }
   ],
   "source": [
    "# получим список уникальных типов заведений\n",
    "types = list(data['object_type'].unique())\n",
    "types"
   ]
  },
  {
   "cell_type": "code",
   "execution_count": 11,
   "id": "a40d7685",
   "metadata": {},
   "outputs": [],
   "source": [
    "# посчитаем 99 перцентиль для всех типов общепита\n",
    "# я бы написала функцию, но я не знаю как написать функцию\n",
    "# percentiles = pd.DataFrame({'name' : list(data['object_type'].unique()),\n",
    "#     '99%_percentiele' : [\n",
    "# np.percentile(data.query('object_type == \"кафе\"')['number'], [95, 99])[1],\n",
    "# np.percentile(data.query('object_type == \"столовая\"')['number'], [95, 99])[1],\n",
    "# np.percentile(data.query('object_type == \"закусочная\"')['number'], [95, 99])[1],\n",
    "# np.percentile(data\n",
    "#               .query('object_type == \"предприятие быстрого обслуживания\"')['number'], \n",
    "#               [95, 99])[1],\n",
    "# np.percentile(data.query('object_type == \"ресторан\"')['number'], [95, 99])[1],\n",
    "# np.percentile(data\n",
    "#               .query('object_type == \"кафетерий\"')['number'], [95, 99])[1],\n",
    "# np.percentile(data.query('object_type == \"буфет\"')['number'], [95, 99])[1],\n",
    "# np.percentile(data.query('object_type == \"бар\"')['number'], [95, 99])[1],\n",
    "# np.percentile(data\n",
    "#               .query('object_type == \"магазин (отдел кулинарии)\"')['number'],\n",
    "#               [95, 99])[1]\n",
    "#          ]})\n",
    "# percentiles"
   ]
  },
  {
   "cell_type": "code",
   "execution_count": 12,
   "id": "5bdbd96b",
   "metadata": {},
   "outputs": [
    {
     "data": {
      "text/html": [
       "<div>\n",
       "<style scoped>\n",
       "    .dataframe tbody tr th:only-of-type {\n",
       "        vertical-align: middle;\n",
       "    }\n",
       "\n",
       "    .dataframe tbody tr th {\n",
       "        vertical-align: top;\n",
       "    }\n",
       "\n",
       "    .dataframe thead th {\n",
       "        text-align: right;\n",
       "    }\n",
       "</style>\n",
       "<table border=\"1\" class=\"dataframe\">\n",
       "  <thead>\n",
       "    <tr style=\"text-align: right;\">\n",
       "      <th>object_type</th>\n",
       "      <th>бар</th>\n",
       "      <th>буфет</th>\n",
       "      <th>закусочная</th>\n",
       "      <th>кафе</th>\n",
       "      <th>кафетерий</th>\n",
       "      <th>магазин (отдел кулинарии)</th>\n",
       "      <th>предприятие быстрого обслуживания</th>\n",
       "      <th>ресторан</th>\n",
       "      <th>столовая</th>\n",
       "    </tr>\n",
       "  </thead>\n",
       "  <tbody>\n",
       "    <tr>\n",
       "      <th>count</th>\n",
       "      <td>856.00</td>\n",
       "      <td>585.00</td>\n",
       "      <td>360.00</td>\n",
       "      <td>6099.00</td>\n",
       "      <td>398.00</td>\n",
       "      <td>273.00</td>\n",
       "      <td>1923.00</td>\n",
       "      <td>2285.00</td>\n",
       "      <td>2587.00</td>\n",
       "    </tr>\n",
       "    <tr>\n",
       "      <th>mean</th>\n",
       "      <td>43.49</td>\n",
       "      <td>51.13</td>\n",
       "      <td>7.61</td>\n",
       "      <td>39.72</td>\n",
       "      <td>9.12</td>\n",
       "      <td>5.59</td>\n",
       "      <td>20.55</td>\n",
       "      <td>96.83</td>\n",
       "      <td>130.25</td>\n",
       "    </tr>\n",
       "    <tr>\n",
       "      <th>std</th>\n",
       "      <td>67.08</td>\n",
       "      <td>56.33</td>\n",
       "      <td>16.65</td>\n",
       "      <td>37.72</td>\n",
       "      <td>14.64</td>\n",
       "      <td>9.87</td>\n",
       "      <td>38.37</td>\n",
       "      <td>94.76</td>\n",
       "      <td>95.18</td>\n",
       "    </tr>\n",
       "    <tr>\n",
       "      <th>min</th>\n",
       "      <td>0.00</td>\n",
       "      <td>0.00</td>\n",
       "      <td>0.00</td>\n",
       "      <td>0.00</td>\n",
       "      <td>0.00</td>\n",
       "      <td>0.00</td>\n",
       "      <td>0.00</td>\n",
       "      <td>0.00</td>\n",
       "      <td>0.00</td>\n",
       "    </tr>\n",
       "    <tr>\n",
       "      <th>50%</th>\n",
       "      <td>35.00</td>\n",
       "      <td>32.00</td>\n",
       "      <td>0.00</td>\n",
       "      <td>30.00</td>\n",
       "      <td>6.00</td>\n",
       "      <td>0.00</td>\n",
       "      <td>5.00</td>\n",
       "      <td>80.00</td>\n",
       "      <td>103.00</td>\n",
       "    </tr>\n",
       "    <tr>\n",
       "      <th>95%</th>\n",
       "      <td>102.00</td>\n",
       "      <td>178.00</td>\n",
       "      <td>35.00</td>\n",
       "      <td>100.00</td>\n",
       "      <td>30.00</td>\n",
       "      <td>28.80</td>\n",
       "      <td>92.00</td>\n",
       "      <td>250.00</td>\n",
       "      <td>289.40</td>\n",
       "    </tr>\n",
       "    <tr>\n",
       "      <th>99%</th>\n",
       "      <td>189.00</td>\n",
       "      <td>250.00</td>\n",
       "      <td>60.00</td>\n",
       "      <td>190.00</td>\n",
       "      <td>53.33</td>\n",
       "      <td>45.00</td>\n",
       "      <td>168.68</td>\n",
       "      <td>478.48</td>\n",
       "      <td>330.00</td>\n",
       "    </tr>\n",
       "    <tr>\n",
       "      <th>max</th>\n",
       "      <td>1700.00</td>\n",
       "      <td>320.00</td>\n",
       "      <td>216.00</td>\n",
       "      <td>533.00</td>\n",
       "      <td>200.00</td>\n",
       "      <td>50.00</td>\n",
       "      <td>580.00</td>\n",
       "      <td>1500.00</td>\n",
       "      <td>1400.00</td>\n",
       "    </tr>\n",
       "  </tbody>\n",
       "</table>\n",
       "</div>"
      ],
      "text/plain": [
       "object_type      бар   буфет  закусочная     кафе  кафетерий  \\\n",
       "count         856.00  585.00      360.00  6099.00     398.00   \n",
       "mean           43.49   51.13        7.61    39.72       9.12   \n",
       "std            67.08   56.33       16.65    37.72      14.64   \n",
       "min             0.00    0.00        0.00     0.00       0.00   \n",
       "50%            35.00   32.00        0.00    30.00       6.00   \n",
       "95%           102.00  178.00       35.00   100.00      30.00   \n",
       "99%           189.00  250.00       60.00   190.00      53.33   \n",
       "max          1700.00  320.00      216.00   533.00     200.00   \n",
       "\n",
       "object_type  магазин (отдел кулинарии)  предприятие быстрого обслуживания  \\\n",
       "count                           273.00                            1923.00   \n",
       "mean                              5.59                              20.55   \n",
       "std                               9.87                              38.37   \n",
       "min                               0.00                               0.00   \n",
       "50%                               0.00                               5.00   \n",
       "95%                              28.80                              92.00   \n",
       "99%                              45.00                             168.68   \n",
       "max                              50.00                             580.00   \n",
       "\n",
       "object_type  ресторан  столовая  \n",
       "count         2285.00   2587.00  \n",
       "mean            96.83    130.25  \n",
       "std             94.76     95.18  \n",
       "min              0.00      0.00  \n",
       "50%             80.00    103.00  \n",
       "95%            250.00    289.40  \n",
       "99%            478.48    330.00  \n",
       "max           1500.00   1400.00  "
      ]
     },
     "execution_count": 12,
     "metadata": {},
     "output_type": "execute_result"
    }
   ],
   "source": [
    "# Просмотрим 95% и 99% для разных типов общественного питиания,\n",
    "# для того чтобы в дальнейшем избавиться от аномальных значений\n",
    "round(data.groupby('object_type')['number'].describe(percentiles=[0.95, 0.99]).T, 2)"
   ]
  },
  {
   "cell_type": "code",
   "execution_count": 13,
   "id": "7535a890",
   "metadata": {},
   "outputs": [],
   "source": [
    "# после того как мы увидели 99й перцентиль для всех типов ОП, мы можем избавиться от\n",
    "# 1% чтобы убрать очевидные выбросы\n",
    "data = data.query('number <= 500')"
   ]
  },
  {
   "cell_type": "markdown",
   "id": "ea79bcaf",
   "metadata": {},
   "source": [
    "В датафрейме есть столбец id, в котором каждой строке выдан свой уникальный номер. Если проводить поиск вместе с этим столбцом - мы не найдем дубликатов. Так что проверим на дубликаты без него."
   ]
  },
  {
   "cell_type": "code",
   "execution_count": 15,
   "id": "28b15ebf",
   "metadata": {},
   "outputs": [
    {
     "data": {
      "text/plain": [
       "85"
      ]
     },
     "execution_count": 15,
     "metadata": {},
     "output_type": "execute_result"
    }
   ],
   "source": [
    "# исключим столбец id из рассмотрения и проверим на дубликаты\n",
    "data.loc[:, 'object_name' : 'number'].duplicated().sum()"
   ]
  },
  {
   "cell_type": "markdown",
   "id": "3b7a092d",
   "metadata": {},
   "source": [
    "В данных обнаружилось 85 дубликатов. Столбец id может автоматически создаваться в реляционных базах данных, даже если вводимая запись уже имеется. Таких данных крайне мало, менее 0.5% на весь датасет, так что, вероятно их можно оставить. "
   ]
  },
  {
   "cell_type": "markdown",
   "id": "1e1049bb",
   "metadata": {},
   "source": [
    "# Анализ данных"
   ]
  },
  {
   "cell_type": "markdown",
   "id": "11293d67",
   "metadata": {},
   "source": [
    "## Соотношение кол-ва объектов ОП к их типу"
   ]
  },
  {
   "cell_type": "code",
   "execution_count": 16,
   "id": "9eb7b5d6",
   "metadata": {},
   "outputs": [
    {
     "data": {
      "text/plain": [
       "кафе                                 6098\n",
       "столовая                             2580\n",
       "ресторан                             2271\n",
       "предприятие быстрого обслуживания    1922\n",
       "бар                                   855\n",
       "буфет                                 585\n",
       "кафетерий                             398\n",
       "закусочная                            360\n",
       "магазин (отдел кулинарии)             273\n",
       "Name: object_type, dtype: int64"
      ]
     },
     "execution_count": 16,
     "metadata": {},
     "output_type": "execute_result"
    }
   ],
   "source": [
    "# проверим на уникальность названия типов точек питания\n",
    "data['object_type'].value_counts()\n",
    "#data['oblect_type'].replace('магазин (отдел кулинарии)', 'кулинария')"
   ]
  },
  {
   "cell_type": "code",
   "execution_count": 17,
   "id": "e40da534",
   "metadata": {},
   "outputs": [
    {
     "data": {
      "image/png": "[encoded data removed]",
      "text/plain": [
       "<Figure size 720x360 with 1 Axes>"
      ]
     },
     "metadata": {
      "needs_background": "light"
     },
     "output_type": "display_data"
    }
   ],
   "source": [
    "# построим cтолбчатую диаграмму, чтобы посмотреть распределение общего количества\n",
    "# объектов по типам питания\n",
    "plt.figure(figsize=(10,5))\n",
    "ax = sns.barplot(\n",
    "    x='amount', y='object_type', data=(data\n",
    "             .groupby('object_type', as_index=False)['id']\n",
    "             .agg('count')\n",
    "             .sort_values(by='id')\n",
    "             .rename(columns={'id' : 'amount'})\n",
    "), palette='mako',\n",
    "    )\n",
    "ax.set_xlabel('Количество объектов')\n",
    "ax.set_ylabel('Тип общественного питания')\n",
    "ax.set_title('График количества точек общественного питания от их типа')\n",
    "# ax.set_yticklabels(['кулинария',\n",
    "#     'закусочная',\n",
    "#     'кафетерий',\n",
    "#     'буфет',\n",
    "#     'бар',\n",
    "#     'ПБО',\n",
    "#     'ресторан',\n",
    "#     'столовая',\n",
    "#     'кафе'])\n",
    "ax.grid(True)\n",
    "#plt.savefig('amount_on_type.png', dpi=400, bbox_inches='tight')\n",
    "plt.show()\n"
   ]
  },
  {
   "cell_type": "markdown",
   "id": "309f3427",
   "metadata": {},
   "source": [
    "Исходя из данных, представленных на графике можно сделать вывод - предприятий типа **КАФЕ** гораздо больше чем остальных типов.   "
   ]
  },
  {
   "cell_type": "markdown",
   "id": "de820498",
   "metadata": {},
   "source": [
    "## Соотношение сетевых и несетевых заведений по количеству"
   ]
  },
  {
   "cell_type": "code",
   "execution_count": 18,
   "id": "2d4de718",
   "metadata": {},
   "outputs": [
    {
     "data": {
      "text/html": [
       "<div>\n",
       "<style scoped>\n",
       "    .dataframe tbody tr th:only-of-type {\n",
       "        vertical-align: middle;\n",
       "    }\n",
       "\n",
       "    .dataframe tbody tr th {\n",
       "        vertical-align: top;\n",
       "    }\n",
       "\n",
       "    .dataframe thead th {\n",
       "        text-align: right;\n",
       "    }\n",
       "</style>\n",
       "<table border=\"1\" class=\"dataframe\">\n",
       "  <thead>\n",
       "    <tr style=\"text-align: right;\">\n",
       "      <th></th>\n",
       "      <th>chain</th>\n",
       "      <th>id</th>\n",
       "    </tr>\n",
       "  </thead>\n",
       "  <tbody>\n",
       "    <tr>\n",
       "      <th>0</th>\n",
       "      <td>да</td>\n",
       "      <td>2967</td>\n",
       "    </tr>\n",
       "    <tr>\n",
       "      <th>1</th>\n",
       "      <td>нет</td>\n",
       "      <td>12375</td>\n",
       "    </tr>\n",
       "  </tbody>\n",
       "</table>\n",
       "</div>"
      ],
      "text/plain": [
       "  chain     id\n",
       "0    да   2967\n",
       "1   нет  12375"
      ]
     },
     "execution_count": 18,
     "metadata": {},
     "output_type": "execute_result"
    }
   ],
   "source": [
    "# проверим что в столбце chain есть только 2 значения - да и нет\n",
    "data.groupby('chain', as_index=False)['id'].agg('count')"
   ]
  },
  {
   "cell_type": "code",
   "execution_count": 19,
   "id": "67fa4b57",
   "metadata": {},
   "outputs": [
    {
     "data": {
      "image/png": "[encoded data removed]",
      "text/plain": [
       "<Figure size 720x360 with 1 Axes>"
      ]
     },
     "metadata": {
      "needs_background": "light"
     },
     "output_type": "display_data"
    }
   ],
   "source": [
    "# график, показывающий как разделились сетевые и несетевые заведения\n",
    "plt.figure(figsize=(10,5))\n",
    "ax = sns.barplot(\n",
    "    x='is_chain', y='amount', data=(\n",
    "    data.query('number > 1')\n",
    "    .pivot_table(index='chain', values='id', aggfunc='count')\n",
    "    .reset_index()\n",
    "    .rename(columns={'chain' : 'is_chain',\n",
    "                     'id' : 'amount'}\n",
    "           )\n",
    "), palette='mako',\n",
    "    )\n",
    "ax.set_xlabel('Является ли заведение сетевым?')\n",
    "ax.set_ylabel('Количество объектов')\n",
    "ax.set_title('Количество сетевых и несетевых точек питания')\n",
    "ax.grid(True)\n",
    "#plt.savefig('chain_or_not.png', dpi=400, bbox_inches='tight')\n",
    "plt.show()"
   ]
  },
  {
   "cell_type": "markdown",
   "id": "1bb953a9",
   "metadata": {},
   "source": [
    "## Для какого вида объекта общественного питания характерно сетевое распространение?"
   ]
  },
  {
   "cell_type": "code",
   "execution_count": 20,
   "id": "d348c259",
   "metadata": {},
   "outputs": [
    {
     "data": {
      "text/html": [
       "<div>\n",
       "<style scoped>\n",
       "    .dataframe tbody tr th:only-of-type {\n",
       "        vertical-align: middle;\n",
       "    }\n",
       "\n",
       "    .dataframe tbody tr th {\n",
       "        vertical-align: top;\n",
       "    }\n",
       "\n",
       "    .dataframe thead th {\n",
       "        text-align: right;\n",
       "    }\n",
       "</style>\n",
       "<table border=\"1\" class=\"dataframe\">\n",
       "  <thead>\n",
       "    <tr style=\"text-align: right;\">\n",
       "      <th>chain</th>\n",
       "      <th>object_type</th>\n",
       "      <th>да</th>\n",
       "      <th>нет</th>\n",
       "      <th>ratio_yes</th>\n",
       "    </tr>\n",
       "  </thead>\n",
       "  <tbody>\n",
       "    <tr>\n",
       "      <th>0</th>\n",
       "      <td>бар</td>\n",
       "      <td>37</td>\n",
       "      <td>818</td>\n",
       "      <td>4.327485</td>\n",
       "    </tr>\n",
       "    <tr>\n",
       "      <th>1</th>\n",
       "      <td>буфет</td>\n",
       "      <td>11</td>\n",
       "      <td>574</td>\n",
       "      <td>1.880342</td>\n",
       "    </tr>\n",
       "    <tr>\n",
       "      <th>2</th>\n",
       "      <td>закусочная</td>\n",
       "      <td>56</td>\n",
       "      <td>304</td>\n",
       "      <td>15.555556</td>\n",
       "    </tr>\n",
       "    <tr>\n",
       "      <th>3</th>\n",
       "      <td>кафе</td>\n",
       "      <td>1396</td>\n",
       "      <td>4702</td>\n",
       "      <td>22.892752</td>\n",
       "    </tr>\n",
       "    <tr>\n",
       "      <th>4</th>\n",
       "      <td>кафетерий</td>\n",
       "      <td>52</td>\n",
       "      <td>346</td>\n",
       "      <td>13.065327</td>\n",
       "    </tr>\n",
       "    <tr>\n",
       "      <th>5</th>\n",
       "      <td>магазин (отдел кулинарии)</td>\n",
       "      <td>78</td>\n",
       "      <td>195</td>\n",
       "      <td>28.571429</td>\n",
       "    </tr>\n",
       "    <tr>\n",
       "      <th>6</th>\n",
       "      <td>предприятие быстрого обслуживания</td>\n",
       "      <td>790</td>\n",
       "      <td>1132</td>\n",
       "      <td>41.103018</td>\n",
       "    </tr>\n",
       "    <tr>\n",
       "      <th>7</th>\n",
       "      <td>ресторан</td>\n",
       "      <td>544</td>\n",
       "      <td>1727</td>\n",
       "      <td>23.954205</td>\n",
       "    </tr>\n",
       "    <tr>\n",
       "      <th>8</th>\n",
       "      <td>столовая</td>\n",
       "      <td>3</td>\n",
       "      <td>2577</td>\n",
       "      <td>0.116279</td>\n",
       "    </tr>\n",
       "  </tbody>\n",
       "</table>\n",
       "</div>"
      ],
      "text/plain": [
       "chain                        object_type    да   нет  ratio_yes\n",
       "0                                    бар    37   818   4.327485\n",
       "1                                  буфет    11   574   1.880342\n",
       "2                             закусочная    56   304  15.555556\n",
       "3                                   кафе  1396  4702  22.892752\n",
       "4                              кафетерий    52   346  13.065327\n",
       "5              магазин (отдел кулинарии)    78   195  28.571429\n",
       "6      предприятие быстрого обслуживания   790  1132  41.103018\n",
       "7                               ресторан   544  1727  23.954205\n",
       "8                               столовая     3  2577   0.116279"
      ]
     },
     "execution_count": 20,
     "metadata": {},
     "output_type": "execute_result"
    }
   ],
   "source": [
    "chain = (data\n",
    "    .pivot_table(index='object_type', columns='chain', values='id', aggfunc='count')\n",
    "    .reset_index()\n",
    "     )\n",
    "chain['ratio_yes'] = (chain['да'] /(chain['да'] + chain['нет'])) * 100.0\n",
    "chain"
   ]
  },
  {
   "cell_type": "code",
   "execution_count": 21,
   "id": "788948de",
   "metadata": {
    "scrolled": false
   },
   "outputs": [
    {
     "data": {
      "image/png": "[encoded data removed]",
      "text/plain": [
       "<Figure size 720x360 with 1 Axes>"
      ]
     },
     "metadata": {
      "needs_background": "light"
     },
     "output_type": "display_data"
    }
   ],
   "source": [
    "#plt.figure(figsize=(5,10))\n",
    "ax = sns.catplot(\n",
    "    x='object_type', kind='count', data=data, hue='chain',\n",
    "    palette='mako')\n",
    "ax.fig.set_size_inches(10, 5)\n",
    "ax.set_xticklabels(rotation=20, ha=\"right\")\n",
    "ax.set_axis_labels('Тип общественного питания', 'Количество объектов')\n",
    "plt.savefig('distrib_chain.png', dpi=400, bbox_inches='tight')\n",
    "\n",
    "plt.show()"
   ]
  },
  {
   "cell_type": "markdown",
   "id": "8835bab9",
   "metadata": {},
   "source": [
    "Очевидно, что несетевых точек общественного питания гораздо больше.  \n",
    "При этом для предприятий быстрого обслуживания доля сетевых заведений от суммарного количества заведений, составляет наибольшие 41%. Следом идут рестораны, кафе и отделы кулинарии в магазинах."
   ]
  },
  {
   "cell_type": "markdown",
   "id": "597bbeac",
   "metadata": {},
   "source": [
    "## Выбор: много заведений с небольшим числом посадочных мест в каждом или мало заведений с большим количеством посадочных мест?"
   ]
  },
  {
   "cell_type": "code",
   "execution_count": 22,
   "id": "f1a5fc9f",
   "metadata": {},
   "outputs": [
    {
     "data": {
      "text/plain": [
       "0      1621\n",
       "40      835\n",
       "20      727\n",
       "30      685\n",
       "10      644\n",
       "       ... \n",
       "229       1\n",
       "481       1\n",
       "167       1\n",
       "259       1\n",
       "119       1\n",
       "Name: number, Length: 294, dtype: int64"
      ]
     },
     "execution_count": 22,
     "metadata": {},
     "output_type": "execute_result"
    }
   ],
   "source": [
    "# есть заведения с нулевым кол-вом посадочных мест\n",
    "data['number'].value_counts()"
   ]
  },
  {
   "cell_type": "code",
   "execution_count": 23,
   "id": "06fc8f8c",
   "metadata": {
    "scrolled": false
   },
   "outputs": [
    {
     "data": {
      "text/html": [
       "<div>\n",
       "<style scoped>\n",
       "    .dataframe tbody tr th:only-of-type {\n",
       "        vertical-align: middle;\n",
       "    }\n",
       "\n",
       "    .dataframe tbody tr th {\n",
       "        vertical-align: top;\n",
       "    }\n",
       "\n",
       "    .dataframe thead th {\n",
       "        text-align: right;\n",
       "    }\n",
       "</style>\n",
       "<table border=\"1\" class=\"dataframe\">\n",
       "  <thead>\n",
       "    <tr style=\"text-align: right;\">\n",
       "      <th></th>\n",
       "      <th>id</th>\n",
       "    </tr>\n",
       "    <tr>\n",
       "      <th>object_type</th>\n",
       "      <th></th>\n",
       "    </tr>\n",
       "  </thead>\n",
       "  <tbody>\n",
       "    <tr>\n",
       "      <th>бар</th>\n",
       "      <td>28</td>\n",
       "    </tr>\n",
       "    <tr>\n",
       "      <th>буфет</th>\n",
       "      <td>68</td>\n",
       "    </tr>\n",
       "    <tr>\n",
       "      <th>закусочная</th>\n",
       "      <td>189</td>\n",
       "    </tr>\n",
       "    <tr>\n",
       "      <th>кафе</th>\n",
       "      <td>310</td>\n",
       "    </tr>\n",
       "    <tr>\n",
       "      <th>кафетерий</th>\n",
       "      <td>113</td>\n",
       "    </tr>\n",
       "    <tr>\n",
       "      <th>магазин (отдел кулинарии)</th>\n",
       "      <td>145</td>\n",
       "    </tr>\n",
       "    <tr>\n",
       "      <th>предприятие быстрого обслуживания</th>\n",
       "      <td>704</td>\n",
       "    </tr>\n",
       "    <tr>\n",
       "      <th>ресторан</th>\n",
       "      <td>45</td>\n",
       "    </tr>\n",
       "    <tr>\n",
       "      <th>столовая</th>\n",
       "      <td>19</td>\n",
       "    </tr>\n",
       "  </tbody>\n",
       "</table>\n",
       "</div>"
      ],
      "text/plain": [
       "                                    id\n",
       "object_type                           \n",
       "бар                                 28\n",
       "буфет                               68\n",
       "закусочная                         189\n",
       "кафе                               310\n",
       "кафетерий                          113\n",
       "магазин (отдел кулинарии)          145\n",
       "предприятие быстрого обслуживания  704\n",
       "ресторан                            45\n",
       "столовая                            19"
      ]
     },
     "execution_count": 23,
     "metadata": {},
     "output_type": "execute_result"
    }
   ],
   "source": [
    "# посмотрим что представляют из себя заведения с 0 посадочных мест\n",
    "(data\n",
    " .query('number == 0')\n",
    " .pivot_table(index='object_type', values='id', aggfunc='count')\n",
    ")"
   ]
  },
  {
   "cell_type": "code",
   "execution_count": 24,
   "id": "db7cd63d",
   "metadata": {},
   "outputs": [],
   "source": [
    "# таблица среднего кол-ва посадочных мест и кол-ва заведений в сети по имени\n",
    "avg_type = (data\n",
    " .query('chain == \"да\"')\n",
    " .groupby('object_name')\n",
    " .agg({'id' : 'count', 'number' : 'mean'})\n",
    " .rename(columns={'id' : 'amount', 'number' : 'seats'})\n",
    ")"
   ]
  },
  {
   "cell_type": "code",
   "execution_count": 25,
   "id": "380eb933",
   "metadata": {},
   "outputs": [
    {
     "name": "stdout",
     "output_type": "stream",
     "text": [
      "Граница для кол-ва объектов: 2.0\n",
      "Граница для кол-ва посадочных мест: 55.31425219941349\n"
     ]
    }
   ],
   "source": [
    "# определим 60й перцентиль для того чтобы найти границу между маленьким количеством \n",
    "# посадочных мест и большим, то же сделаем для количеством заведений\n",
    "amount_boarder = np.percentile(avg_type['amount'],[60])[0]\n",
    "print(f'Граница для кол-ва объектов: {amount_boarder}')\n",
    "seats_boarder = np.percentile(avg_type['seats'],[60])[0]\n",
    "print(f'Граница для кол-ва посадочных мест: {seats_boarder}')"
   ]
  },
  {
   "cell_type": "code",
   "execution_count": 26,
   "id": "4348dd06",
   "metadata": {},
   "outputs": [
    {
     "data": {
      "image/png": "[encoded data removed]",
      "text/plain": [
       "<Figure size 360x360 with 1 Axes>"
      ]
     },
     "metadata": {
      "needs_background": "light"
     },
     "output_type": "display_data"
    }
   ],
   "source": [
    "ax = sns.relplot(x='seats', y='amount',\n",
    "                 data=avg_type.query('amount > 1 & seats > 0'), color='#68A7AD')\n",
    "plt.axhline(y=2, color='red', linestyle='--')\n",
    "plt.axvline(55, 0, 1, linestyle='--', color='red')\n",
    "plt.xlabel('Количество посадочных мест')\n",
    "plt.ylabel('Количество заведений данной сети')\n",
    "plt.text(50, 0, '1', fontsize=10)\n",
    "plt.text(40, 100, '2', fontsize=10)\n",
    "plt.text(60, 100, '3', fontsize=10)\n",
    "plt.text(60, 0, '4', fontsize=10)\n",
    "plt.savefig('ratio_seat_amount.png', dpi=400, bbox_inches='tight')\n",
    "plt.show()"
   ]
  },
  {
   "cell_type": "markdown",
   "id": "91dafb72",
   "metadata": {},
   "source": [
    "Итак, построив график, где по оси х - количество посадочных мест, по оси у - количество заведений некой сети, и разделив его на 4 части мы можем сделать следующие выводы:\n",
    " * Зона 1 - область, в которой у сети малое количество заведений и посадочных мест\n",
    " * Зона 2 - область, в которой у небольшого количества заведений - большое количество посадочных мест\n",
    " * Зона 3 - область, в которой сеть выбирает большое количество заведений и малое количество посадочных мест\n",
    " * Зона 4 -  область, в которой у сети большое количество посадочных мест и большое количество заведений\n",
    " \n",
    " Исходя из графика видно, в зоне 1 сосредоточено большое количество заведений. Вероятно тут находятся кафетерии, и кафе, уже являющиеся сетью, однако, занимающие небольшие помещения.\n",
    " Самой распространенной зоной, является область 2 - это те заведения, которые уже выросли в довольно уверенные сети, и имеют большое кол-во точек, однако находятся в помещениях с небольшой площадью.\n",
    " Зона 3 - в ней также присутствует довольно большое количество заведений. Вероятно это крупные рестораны, имеющие большое кол-во заведений и занимающие большие площади.\n",
    "В области большого кол-ва посадочных мест и заведений находится не очень большое количество заведений. Вероятно это столовые, банкетные залы и прочее. "
   ]
  },
  {
   "cell_type": "markdown",
   "id": "864c1238",
   "metadata": {},
   "source": [
    "Выше провела группировку, чтобы посмотреть в каких типах предприятий содержатся заведения с 0 посадочных мест. Для ряда типов предприятий (предприятие быстрого питания, кулинария) это вполне вероятная ситуация - люди приходят и покупают еду навынос. Для остальных типов, это, вероятно, ошибка при заполнении формы или выгрузке данных. \n",
    "        Сети с одним заведением, могут быть либо ошибочно занесены в \"сетевые\", либо это \"начинающая\" сеть, и остальные заведения еще в процессе строительства (или осталось всего одно заведение и сеть разваливается)\n",
    "        В рассмотрении вопроса 2.4 мы отфильтруем эти значения и не будем включать их."
   ]
  },
  {
   "cell_type": "markdown",
   "id": "9d447b6c",
   "metadata": {},
   "source": [
    "## Какой вид предоставляет в среднем самое большое количество посадочных мест? "
   ]
  },
  {
   "cell_type": "code",
   "execution_count": 27,
   "id": "04003b11",
   "metadata": {},
   "outputs": [
    {
     "data": {
      "image/png": "[encoded data removed]",
      "text/plain": [
       "<Figure size 720x360 with 1 Axes>"
      ]
     },
     "metadata": {
      "needs_background": "light"
     },
     "output_type": "display_data"
    }
   ],
   "source": [
    "# график распределения среднего кол-ва посадочных мест в зависимости от типа\n",
    "# предприятия общественного питания\n",
    "plt.figure(figsize=(10,5))\n",
    "ax = sns.barplot(x='object_type', y='number', data=data\n",
    "                                         .groupby('object_type', as_index=False)\n",
    "                                         .agg({'number' : 'mean'})\n",
    "                                         .sort_values(by='number')\n",
    "                                         .round(2), palette='mako'\n",
    ")\n",
    "ax.set_xticklabels(ax.get_xticklabels(),rotation=20, ha=\"right\")\n",
    "plt.title('Среднее количество посадочных мест в зависимости от типа заведения')\n",
    "plt.xlabel('Тип заведения')\n",
    "plt.ylabel('Среднее количество посадочных мест ')\n",
    "ax.set_xticklabels(['кулинария', 'закусочная', 'кафетерий', 'ПБО', 'кафе', 'бар',\n",
    "            'буфет', 'ресторан', 'столовая'])\n",
    "ax.grid(True)\n",
    "#plt.savefig('avg_seats.png', dpi=400, bbox_inches='tight')\n",
    "plt.show()"
   ]
  },
  {
   "cell_type": "markdown",
   "id": "a9d39de1",
   "metadata": {},
   "source": [
    "Исходя из графика видно что наибольшее количество посадочных мест ( в среднем) у типа столовая, наименьшее - отдел кулинарии в магазине."
   ]
  },
  {
   "cell_type": "markdown",
   "id": "1ec119ef",
   "metadata": {},
   "source": [
    "## Извлечение данных об улице"
   ]
  },
  {
   "cell_type": "code",
   "execution_count": 28,
   "id": "922b3afc",
   "metadata": {},
   "outputs": [
    {
     "data": {
      "text/plain": [
       "id               0\n",
       "object_name      0\n",
       "chain            0\n",
       "object_type      0\n",
       "address          0\n",
       "number           0\n",
       "street         454\n",
       "dtype: int64"
      ]
     },
     "execution_count": 28,
     "metadata": {},
     "output_type": "execute_result"
    }
   ],
   "source": [
    "# усовершенствованный вариант выделение улицы из адреса\n",
    "# там где улицы нет - будет NaN\n",
    "words = ['улица','ул','переулок','шоссе','проспект','площадь','проезд',\n",
    "         'село','аллея','бульвар','набережная','тупик','линия']\n",
    "\n",
    "str_pat = r\".*,\\s*\\b([^,]*?(?:{})\\b[^,]*)[,$]+\".format(\"|\".join(words))\n",
    "\n",
    "data[\"street\"] = data[\"address\"].str.extract(str_pat)\n",
    "# проверим сколько пропусков\n",
    "data.isna().sum()"
   ]
  },
  {
   "cell_type": "markdown",
   "id": "f4bc9672",
   "metadata": {},
   "source": [
    "## топ-10 улиц по количеству объектов общественного питания"
   ]
  },
  {
   "cell_type": "code",
   "execution_count": 29,
   "id": "8e1d851c",
   "metadata": {},
   "outputs": [
    {
     "data": {
      "image/png": "[encoded data removed]",
      "text/plain": [
       "<Figure size 432x288 with 1 Axes>"
      ]
     },
     "metadata": {
      "needs_background": "light"
     },
     "output_type": "display_data"
    }
   ],
   "source": [
    "ax = sns.barplot(x='id', y='street', data=(data\n",
    "                 .groupby('street', as_index=False)['id']\n",
    "                 .agg('count')\n",
    "                 .sort_values(by='id', ascending=False)\n",
    "                 .head(10)\n",
    "), palette='mako'\n",
    ")\n",
    "#ax.set_axis_labels('Количество объектов', 'Улица')\n",
    "ax.set_xlabel('Количество объектов')\n",
    "ax.set_ylabel('Улица')\n",
    "plt.savefig('top_ten.png', dpi=400, bbox_inches='tight')\n",
    "plt.show()"
   ]
  },
  {
   "cell_type": "code",
   "execution_count": 30,
   "id": "b1aa368e",
   "metadata": {},
   "outputs": [
    {
     "data": {
      "text/html": [
       "<div>\n",
       "<style scoped>\n",
       "    .dataframe tbody tr th:only-of-type {\n",
       "        vertical-align: middle;\n",
       "    }\n",
       "\n",
       "    .dataframe tbody tr th {\n",
       "        vertical-align: top;\n",
       "    }\n",
       "\n",
       "    .dataframe thead th {\n",
       "        text-align: right;\n",
       "    }\n",
       "</style>\n",
       "<table border=\"1\" class=\"dataframe\">\n",
       "  <thead>\n",
       "    <tr style=\"text-align: right;\">\n",
       "      <th></th>\n",
       "      <th>streetname</th>\n",
       "      <th>areaid</th>\n",
       "      <th>okrug</th>\n",
       "      <th>area</th>\n",
       "    </tr>\n",
       "  </thead>\n",
       "  <tbody>\n",
       "    <tr>\n",
       "      <th>0</th>\n",
       "      <td>Выставочный переулок</td>\n",
       "      <td>17</td>\n",
       "      <td>ЦАО</td>\n",
       "      <td>Пресненский район</td>\n",
       "    </tr>\n",
       "    <tr>\n",
       "      <th>1</th>\n",
       "      <td>улица Гашека</td>\n",
       "      <td>17</td>\n",
       "      <td>ЦАО</td>\n",
       "      <td>Пресненский район</td>\n",
       "    </tr>\n",
       "    <tr>\n",
       "      <th>2</th>\n",
       "      <td>Большая Никитская улица</td>\n",
       "      <td>17</td>\n",
       "      <td>ЦАО</td>\n",
       "      <td>Пресненский район</td>\n",
       "    </tr>\n",
       "    <tr>\n",
       "      <th>3</th>\n",
       "      <td>Глубокий переулок</td>\n",
       "      <td>17</td>\n",
       "      <td>ЦАО</td>\n",
       "      <td>Пресненский район</td>\n",
       "    </tr>\n",
       "    <tr>\n",
       "      <th>4</th>\n",
       "      <td>Большой Гнездниковский переулок</td>\n",
       "      <td>17</td>\n",
       "      <td>ЦАО</td>\n",
       "      <td>Пресненский район</td>\n",
       "    </tr>\n",
       "  </tbody>\n",
       "</table>\n",
       "</div>"
      ],
      "text/plain": [
       "                        streetname  areaid okrug               area\n",
       "0             Выставочный переулок      17   ЦАО  Пресненский район\n",
       "1                     улица Гашека      17   ЦАО  Пресненский район\n",
       "2          Большая Никитская улица      17   ЦАО  Пресненский район\n",
       "3                Глубокий переулок      17   ЦАО  Пресненский район\n",
       "4  Большой Гнездниковский переулок      17   ЦАО  Пресненский район"
      ]
     },
     "execution_count": 30,
     "metadata": {},
     "output_type": "execute_result"
    }
   ],
   "source": [
    "from io import BytesIO\n",
    "import requests\n",
    "spreadsheet_id = '1-zBRLJ76x7_K0BcNKeA7zwKWaCn5d_1OnUKJHJiq1tM'\n",
    "file_name = 'https://docs.google.com/spreadsheets/d/{}/export?format=csv'.format(spreadsheet_id)\n",
    "r = requests.get(file_name)\n",
    "districts = pd.read_csv(BytesIO(r.content), sep=',')\n",
    "districts.head()"
   ]
  },
  {
   "cell_type": "code",
   "execution_count": 31,
   "id": "c447b581",
   "metadata": {},
   "outputs": [
    {
     "data": {
      "text/html": [
       "<div>\n",
       "<style scoped>\n",
       "    .dataframe tbody tr th:only-of-type {\n",
       "        vertical-align: middle;\n",
       "    }\n",
       "\n",
       "    .dataframe tbody tr th {\n",
       "        vertical-align: top;\n",
       "    }\n",
       "\n",
       "    .dataframe thead th {\n",
       "        text-align: right;\n",
       "    }\n",
       "</style>\n",
       "<table border=\"1\" class=\"dataframe\">\n",
       "  <thead>\n",
       "    <tr style=\"text-align: right;\">\n",
       "      <th></th>\n",
       "      <th>streetname</th>\n",
       "      <th>obj_amount</th>\n",
       "    </tr>\n",
       "  </thead>\n",
       "  <tbody>\n",
       "    <tr>\n",
       "      <th>0</th>\n",
       "      <td>проспект Мира</td>\n",
       "      <td>204</td>\n",
       "    </tr>\n",
       "    <tr>\n",
       "      <th>1</th>\n",
       "      <td>Профсоюзная улица</td>\n",
       "      <td>182</td>\n",
       "    </tr>\n",
       "    <tr>\n",
       "      <th>2</th>\n",
       "      <td>Ленинградский проспект</td>\n",
       "      <td>170</td>\n",
       "    </tr>\n",
       "    <tr>\n",
       "      <th>3</th>\n",
       "      <td>Пресненская набережная</td>\n",
       "      <td>167</td>\n",
       "    </tr>\n",
       "    <tr>\n",
       "      <th>4</th>\n",
       "      <td>Варшавское шоссе</td>\n",
       "      <td>164</td>\n",
       "    </tr>\n",
       "  </tbody>\n",
       "</table>\n",
       "</div>"
      ],
      "text/plain": [
       "               streetname  obj_amount\n",
       "0           проспект Мира         204\n",
       "1       Профсоюзная улица         182\n",
       "2  Ленинградский проспект         170\n",
       "3  Пресненская набережная         167\n",
       "4        Варшавское шоссе         164"
      ]
     },
     "execution_count": 31,
     "metadata": {},
     "output_type": "execute_result"
    }
   ],
   "source": [
    "test_merge = (data\n",
    "    .groupby('street', as_index=False)['id']\n",
    "    .agg('count')\n",
    "    .sort_values(by='id', ascending=False)\n",
    "    .head(10)\n",
    "    .reset_index(drop=True)\n",
    "    .rename(columns={'street' : 'streetname',\n",
    "                     'id' : 'obj_amount'})\n",
    "     )\n",
    "test_merge.head()"
   ]
  },
  {
   "cell_type": "code",
   "execution_count": 32,
   "id": "2d0a45dd",
   "metadata": {
    "scrolled": true
   },
   "outputs": [
    {
     "data": {
      "text/html": [
       "<div>\n",
       "<style scoped>\n",
       "    .dataframe tbody tr th:only-of-type {\n",
       "        vertical-align: middle;\n",
       "    }\n",
       "\n",
       "    .dataframe tbody tr th {\n",
       "        vertical-align: top;\n",
       "    }\n",
       "\n",
       "    .dataframe thead th {\n",
       "        text-align: right;\n",
       "    }\n",
       "</style>\n",
       "<table border=\"1\" class=\"dataframe\">\n",
       "  <thead>\n",
       "    <tr style=\"text-align: right;\">\n",
       "      <th></th>\n",
       "      <th>streetname</th>\n",
       "      <th>obj_amount</th>\n",
       "      <th>areaid</th>\n",
       "      <th>okrug</th>\n",
       "      <th>area</th>\n",
       "    </tr>\n",
       "  </thead>\n",
       "  <tbody>\n",
       "    <tr>\n",
       "      <th>0</th>\n",
       "      <td>проспект Мира</td>\n",
       "      <td>204</td>\n",
       "      <td>70</td>\n",
       "      <td>СВАО</td>\n",
       "      <td>Алексеевский район</td>\n",
       "    </tr>\n",
       "    <tr>\n",
       "      <th>1</th>\n",
       "      <td>проспект Мира</td>\n",
       "      <td>204</td>\n",
       "      <td>86</td>\n",
       "      <td>СВАО</td>\n",
       "      <td>Ярославский Район</td>\n",
       "    </tr>\n",
       "    <tr>\n",
       "      <th>2</th>\n",
       "      <td>проспект Мира</td>\n",
       "      <td>204</td>\n",
       "      <td>78</td>\n",
       "      <td>СВАО</td>\n",
       "      <td>Район Марьина роща</td>\n",
       "    </tr>\n",
       "    <tr>\n",
       "      <th>3</th>\n",
       "      <td>проспект Мира</td>\n",
       "      <td>204</td>\n",
       "      <td>79</td>\n",
       "      <td>СВАО</td>\n",
       "      <td>Останкинский район</td>\n",
       "    </tr>\n",
       "    <tr>\n",
       "      <th>4</th>\n",
       "      <td>проспект Мира</td>\n",
       "      <td>204</td>\n",
       "      <td>81</td>\n",
       "      <td>СВАО</td>\n",
       "      <td>Район Ростокино</td>\n",
       "    </tr>\n",
       "    <tr>\n",
       "      <th>5</th>\n",
       "      <td>проспект Мира</td>\n",
       "      <td>204</td>\n",
       "      <td>82</td>\n",
       "      <td>СВАО</td>\n",
       "      <td>Район Свиблово</td>\n",
       "    </tr>\n",
       "    <tr>\n",
       "      <th>6</th>\n",
       "      <td>проспект Мира</td>\n",
       "      <td>204</td>\n",
       "      <td>16</td>\n",
       "      <td>ЦАО</td>\n",
       "      <td>Мещанский район</td>\n",
       "    </tr>\n",
       "    <tr>\n",
       "      <th>7</th>\n",
       "      <td>Профсоюзная улица</td>\n",
       "      <td>182</td>\n",
       "      <td>123</td>\n",
       "      <td>ЮЗАО</td>\n",
       "      <td>Академический район</td>\n",
       "    </tr>\n",
       "    <tr>\n",
       "      <th>8</th>\n",
       "      <td>Профсоюзная улица</td>\n",
       "      <td>182</td>\n",
       "      <td>132</td>\n",
       "      <td>ЮЗАО</td>\n",
       "      <td>Район Черемушки</td>\n",
       "    </tr>\n",
       "    <tr>\n",
       "      <th>9</th>\n",
       "      <td>Профсоюзная улица</td>\n",
       "      <td>182</td>\n",
       "      <td>134</td>\n",
       "      <td>ЮЗАО</td>\n",
       "      <td>Район Ясенево</td>\n",
       "    </tr>\n",
       "    <tr>\n",
       "      <th>10</th>\n",
       "      <td>Профсоюзная улица</td>\n",
       "      <td>182</td>\n",
       "      <td>126</td>\n",
       "      <td>ЮЗАО</td>\n",
       "      <td>Район Коньково</td>\n",
       "    </tr>\n",
       "    <tr>\n",
       "      <th>11</th>\n",
       "      <td>Профсоюзная улица</td>\n",
       "      <td>182</td>\n",
       "      <td>129</td>\n",
       "      <td>ЮЗАО</td>\n",
       "      <td>Обручевский район</td>\n",
       "    </tr>\n",
       "    <tr>\n",
       "      <th>12</th>\n",
       "      <td>Профсоюзная улица</td>\n",
       "      <td>182</td>\n",
       "      <td>131</td>\n",
       "      <td>ЮЗАО</td>\n",
       "      <td>Район Теплый Стан</td>\n",
       "    </tr>\n",
       "    <tr>\n",
       "      <th>13</th>\n",
       "      <td>Ленинградский проспект</td>\n",
       "      <td>170</td>\n",
       "      <td>54</td>\n",
       "      <td>САО</td>\n",
       "      <td>Район Аэропорт</td>\n",
       "    </tr>\n",
       "    <tr>\n",
       "      <th>14</th>\n",
       "      <td>Ленинградский проспект</td>\n",
       "      <td>170</td>\n",
       "      <td>55</td>\n",
       "      <td>САО</td>\n",
       "      <td>Район Беговой</td>\n",
       "    </tr>\n",
       "    <tr>\n",
       "      <th>15</th>\n",
       "      <td>Ленинградский проспект</td>\n",
       "      <td>170</td>\n",
       "      <td>69</td>\n",
       "      <td>САО</td>\n",
       "      <td>Хорошевский район</td>\n",
       "    </tr>\n",
       "    <tr>\n",
       "      <th>16</th>\n",
       "      <td>Ленинградский проспект</td>\n",
       "      <td>170</td>\n",
       "      <td>66</td>\n",
       "      <td>САО</td>\n",
       "      <td>Район Сокол</td>\n",
       "    </tr>\n",
       "    <tr>\n",
       "      <th>17</th>\n",
       "      <td>Пресненская набережная</td>\n",
       "      <td>167</td>\n",
       "      <td>17</td>\n",
       "      <td>ЦАО</td>\n",
       "      <td>Пресненский район</td>\n",
       "    </tr>\n",
       "    <tr>\n",
       "      <th>18</th>\n",
       "      <td>Варшавское шоссе</td>\n",
       "      <td>164</td>\n",
       "      <td>109</td>\n",
       "      <td>ЮАО</td>\n",
       "      <td>Район Чертаново Центральное</td>\n",
       "    </tr>\n",
       "    <tr>\n",
       "      <th>19</th>\n",
       "      <td>Варшавское шоссе</td>\n",
       "      <td>164</td>\n",
       "      <td>108</td>\n",
       "      <td>ЮАО</td>\n",
       "      <td>Район Чертаново Северное</td>\n",
       "    </tr>\n",
       "    <tr>\n",
       "      <th>20</th>\n",
       "      <td>Варшавское шоссе</td>\n",
       "      <td>164</td>\n",
       "      <td>110</td>\n",
       "      <td>ЮАО</td>\n",
       "      <td>Район Чертаново Южное</td>\n",
       "    </tr>\n",
       "    <tr>\n",
       "      <th>21</th>\n",
       "      <td>Варшавское шоссе</td>\n",
       "      <td>164</td>\n",
       "      <td>99</td>\n",
       "      <td>ЮАО</td>\n",
       "      <td>Донской район</td>\n",
       "    </tr>\n",
       "    <tr>\n",
       "      <th>22</th>\n",
       "      <td>Варшавское шоссе</td>\n",
       "      <td>164</td>\n",
       "      <td>102</td>\n",
       "      <td>ЮАО</td>\n",
       "      <td>Район Нагатино-Садовники</td>\n",
       "    </tr>\n",
       "    <tr>\n",
       "      <th>23</th>\n",
       "      <td>Варшавское шоссе</td>\n",
       "      <td>164</td>\n",
       "      <td>104</td>\n",
       "      <td>ЮАО</td>\n",
       "      <td>Нагорный район</td>\n",
       "    </tr>\n",
       "    <tr>\n",
       "      <th>24</th>\n",
       "      <td>Варшавское шоссе</td>\n",
       "      <td>164</td>\n",
       "      <td>130</td>\n",
       "      <td>ЮЗАО</td>\n",
       "      <td>Район Северное Бутово</td>\n",
       "    </tr>\n",
       "    <tr>\n",
       "      <th>25</th>\n",
       "      <td>Варшавское шоссе</td>\n",
       "      <td>164</td>\n",
       "      <td>133</td>\n",
       "      <td>ЮЗАО</td>\n",
       "      <td>Район Южное Бутово</td>\n",
       "    </tr>\n",
       "    <tr>\n",
       "      <th>26</th>\n",
       "      <td>Ленинский проспект</td>\n",
       "      <td>147</td>\n",
       "      <td>44</td>\n",
       "      <td>ЗАО</td>\n",
       "      <td>Район Проспект Вернадского</td>\n",
       "    </tr>\n",
       "    <tr>\n",
       "      <th>27</th>\n",
       "      <td>Ленинский проспект</td>\n",
       "      <td>147</td>\n",
       "      <td>47</td>\n",
       "      <td>ЗАО</td>\n",
       "      <td>Район Тропарево-Никулино</td>\n",
       "    </tr>\n",
       "    <tr>\n",
       "      <th>28</th>\n",
       "      <td>Ленинский проспект</td>\n",
       "      <td>147</td>\n",
       "      <td>99</td>\n",
       "      <td>ЮАО</td>\n",
       "      <td>Донской район</td>\n",
       "    </tr>\n",
       "    <tr>\n",
       "      <th>29</th>\n",
       "      <td>Ленинский проспект</td>\n",
       "      <td>147</td>\n",
       "      <td>124</td>\n",
       "      <td>ЮЗАО</td>\n",
       "      <td>Район Гагаринский</td>\n",
       "    </tr>\n",
       "    <tr>\n",
       "      <th>30</th>\n",
       "      <td>Ленинский проспект</td>\n",
       "      <td>147</td>\n",
       "      <td>128</td>\n",
       "      <td>ЮЗАО</td>\n",
       "      <td>Ломоносовский район</td>\n",
       "    </tr>\n",
       "    <tr>\n",
       "      <th>31</th>\n",
       "      <td>Ленинский проспект</td>\n",
       "      <td>147</td>\n",
       "      <td>129</td>\n",
       "      <td>ЮЗАО</td>\n",
       "      <td>Обручевский район</td>\n",
       "    </tr>\n",
       "    <tr>\n",
       "      <th>32</th>\n",
       "      <td>Ленинский проспект</td>\n",
       "      <td>147</td>\n",
       "      <td>131</td>\n",
       "      <td>ЮЗАО</td>\n",
       "      <td>Район Теплый Стан</td>\n",
       "    </tr>\n",
       "    <tr>\n",
       "      <th>33</th>\n",
       "      <td>Ленинский проспект</td>\n",
       "      <td>147</td>\n",
       "      <td>21</td>\n",
       "      <td>ЦАО</td>\n",
       "      <td>Район Якиманка</td>\n",
       "    </tr>\n",
       "    <tr>\n",
       "      <th>34</th>\n",
       "      <td>проспект Вернадского</td>\n",
       "      <td>131</td>\n",
       "      <td>44</td>\n",
       "      <td>ЗАО</td>\n",
       "      <td>Район Проспект Вернадского</td>\n",
       "    </tr>\n",
       "    <tr>\n",
       "      <th>35</th>\n",
       "      <td>проспект Вернадского</td>\n",
       "      <td>131</td>\n",
       "      <td>45</td>\n",
       "      <td>ЗАО</td>\n",
       "      <td>Район Раменки</td>\n",
       "    </tr>\n",
       "    <tr>\n",
       "      <th>36</th>\n",
       "      <td>проспект Вернадского</td>\n",
       "      <td>131</td>\n",
       "      <td>47</td>\n",
       "      <td>ЗАО</td>\n",
       "      <td>Район Тропарево-Никулино</td>\n",
       "    </tr>\n",
       "    <tr>\n",
       "      <th>37</th>\n",
       "      <td>проспект Вернадского</td>\n",
       "      <td>131</td>\n",
       "      <td>124</td>\n",
       "      <td>ЮЗАО</td>\n",
       "      <td>Район Гагаринский</td>\n",
       "    </tr>\n",
       "    <tr>\n",
       "      <th>38</th>\n",
       "      <td>проспект Вернадского</td>\n",
       "      <td>131</td>\n",
       "      <td>128</td>\n",
       "      <td>ЮЗАО</td>\n",
       "      <td>Ломоносовский район</td>\n",
       "    </tr>\n",
       "    <tr>\n",
       "      <th>39</th>\n",
       "      <td>Кутузовский проспект</td>\n",
       "      <td>112</td>\n",
       "      <td>38</td>\n",
       "      <td>ЗАО</td>\n",
       "      <td>Район Дорогомилово</td>\n",
       "    </tr>\n",
       "    <tr>\n",
       "      <th>40</th>\n",
       "      <td>Кутузовский проспект</td>\n",
       "      <td>112</td>\n",
       "      <td>49</td>\n",
       "      <td>ЗАО</td>\n",
       "      <td>Район Фили-Давыдково</td>\n",
       "    </tr>\n",
       "    <tr>\n",
       "      <th>41</th>\n",
       "      <td>Каширское шоссе</td>\n",
       "      <td>111</td>\n",
       "      <td>101</td>\n",
       "      <td>ЮАО</td>\n",
       "      <td>Район Москворечье-Сабурово</td>\n",
       "    </tr>\n",
       "    <tr>\n",
       "      <th>42</th>\n",
       "      <td>Каширское шоссе</td>\n",
       "      <td>111</td>\n",
       "      <td>102</td>\n",
       "      <td>ЮАО</td>\n",
       "      <td>Район Нагатино-Садовники</td>\n",
       "    </tr>\n",
       "    <tr>\n",
       "      <th>43</th>\n",
       "      <td>Каширское шоссе</td>\n",
       "      <td>111</td>\n",
       "      <td>106</td>\n",
       "      <td>ЮАО</td>\n",
       "      <td>Район Орехово-Борисово Южное</td>\n",
       "    </tr>\n",
       "    <tr>\n",
       "      <th>44</th>\n",
       "      <td>Каширское шоссе</td>\n",
       "      <td>111</td>\n",
       "      <td>105</td>\n",
       "      <td>ЮАО</td>\n",
       "      <td>Район Орехово-Борисово Северное</td>\n",
       "    </tr>\n",
       "    <tr>\n",
       "      <th>45</th>\n",
       "      <td>Кировоградская улица</td>\n",
       "      <td>110</td>\n",
       "      <td>109</td>\n",
       "      <td>ЮАО</td>\n",
       "      <td>Район Чертаново Центральное</td>\n",
       "    </tr>\n",
       "    <tr>\n",
       "      <th>46</th>\n",
       "      <td>Кировоградская улица</td>\n",
       "      <td>110</td>\n",
       "      <td>108</td>\n",
       "      <td>ЮАО</td>\n",
       "      <td>Район Чертаново Северное</td>\n",
       "    </tr>\n",
       "    <tr>\n",
       "      <th>47</th>\n",
       "      <td>Кировоградская улица</td>\n",
       "      <td>110</td>\n",
       "      <td>110</td>\n",
       "      <td>ЮАО</td>\n",
       "      <td>Район Чертаново Южное</td>\n",
       "    </tr>\n",
       "  </tbody>\n",
       "</table>\n",
       "</div>"
      ],
      "text/plain": [
       "                streetname  obj_amount  areaid okrug  \\\n",
       "0            проспект Мира         204      70  СВАО   \n",
       "1            проспект Мира         204      86  СВАО   \n",
       "2            проспект Мира         204      78  СВАО   \n",
       "3            проспект Мира         204      79  СВАО   \n",
       "4            проспект Мира         204      81  СВАО   \n",
       "5            проспект Мира         204      82  СВАО   \n",
       "6            проспект Мира         204      16   ЦАО   \n",
       "7        Профсоюзная улица         182     123  ЮЗАО   \n",
       "8        Профсоюзная улица         182     132  ЮЗАО   \n",
       "9        Профсоюзная улица         182     134  ЮЗАО   \n",
       "10       Профсоюзная улица         182     126  ЮЗАО   \n",
       "11       Профсоюзная улица         182     129  ЮЗАО   \n",
       "12       Профсоюзная улица         182     131  ЮЗАО   \n",
       "13  Ленинградский проспект         170      54   САО   \n",
       "14  Ленинградский проспект         170      55   САО   \n",
       "15  Ленинградский проспект         170      69   САО   \n",
       "16  Ленинградский проспект         170      66   САО   \n",
       "17  Пресненская набережная         167      17   ЦАО   \n",
       "18        Варшавское шоссе         164     109   ЮАО   \n",
       "19        Варшавское шоссе         164     108   ЮАО   \n",
       "20        Варшавское шоссе         164     110   ЮАО   \n",
       "21        Варшавское шоссе         164      99   ЮАО   \n",
       "22        Варшавское шоссе         164     102   ЮАО   \n",
       "23        Варшавское шоссе         164     104   ЮАО   \n",
       "24        Варшавское шоссе         164     130  ЮЗАО   \n",
       "25        Варшавское шоссе         164     133  ЮЗАО   \n",
       "26      Ленинский проспект         147      44   ЗАО   \n",
       "27      Ленинский проспект         147      47   ЗАО   \n",
       "28      Ленинский проспект         147      99   ЮАО   \n",
       "29      Ленинский проспект         147     124  ЮЗАО   \n",
       "30      Ленинский проспект         147     128  ЮЗАО   \n",
       "31      Ленинский проспект         147     129  ЮЗАО   \n",
       "32      Ленинский проспект         147     131  ЮЗАО   \n",
       "33      Ленинский проспект         147      21   ЦАО   \n",
       "34    проспект Вернадского         131      44   ЗАО   \n",
       "35    проспект Вернадского         131      45   ЗАО   \n",
       "36    проспект Вернадского         131      47   ЗАО   \n",
       "37    проспект Вернадского         131     124  ЮЗАО   \n",
       "38    проспект Вернадского         131     128  ЮЗАО   \n",
       "39    Кутузовский проспект         112      38   ЗАО   \n",
       "40    Кутузовский проспект         112      49   ЗАО   \n",
       "41         Каширское шоссе         111     101   ЮАО   \n",
       "42         Каширское шоссе         111     102   ЮАО   \n",
       "43         Каширское шоссе         111     106   ЮАО   \n",
       "44         Каширское шоссе         111     105   ЮАО   \n",
       "45    Кировоградская улица         110     109   ЮАО   \n",
       "46    Кировоградская улица         110     108   ЮАО   \n",
       "47    Кировоградская улица         110     110   ЮАО   \n",
       "\n",
       "                               area  \n",
       "0                Алексеевский район  \n",
       "1                 Ярославский Район  \n",
       "2                Район Марьина роща  \n",
       "3                Останкинский район  \n",
       "4                   Район Ростокино  \n",
       "5                    Район Свиблово  \n",
       "6                   Мещанский район  \n",
       "7               Академический район  \n",
       "8                   Район Черемушки  \n",
       "9                     Район Ясенево  \n",
       "10                   Район Коньково  \n",
       "11                Обручевский район  \n",
       "12                Район Теплый Стан  \n",
       "13                   Район Аэропорт  \n",
       "14                    Район Беговой  \n",
       "15                Хорошевский район  \n",
       "16                      Район Сокол  \n",
       "17                Пресненский район  \n",
       "18      Район Чертаново Центральное  \n",
       "19         Район Чертаново Северное  \n",
       "20            Район Чертаново Южное  \n",
       "21                    Донской район  \n",
       "22         Район Нагатино-Садовники  \n",
       "23                   Нагорный район  \n",
       "24            Район Северное Бутово  \n",
       "25               Район Южное Бутово  \n",
       "26       Район Проспект Вернадского  \n",
       "27         Район Тропарево-Никулино  \n",
       "28                    Донской район  \n",
       "29                Район Гагаринский  \n",
       "30              Ломоносовский район  \n",
       "31                Обручевский район  \n",
       "32                Район Теплый Стан  \n",
       "33                   Район Якиманка  \n",
       "34       Район Проспект Вернадского  \n",
       "35                    Район Раменки  \n",
       "36         Район Тропарево-Никулино  \n",
       "37                Район Гагаринский  \n",
       "38              Ломоносовский район  \n",
       "39               Район Дорогомилово  \n",
       "40             Район Фили-Давыдково  \n",
       "41       Район Москворечье-Сабурово  \n",
       "42         Район Нагатино-Садовники  \n",
       "43     Район Орехово-Борисово Южное  \n",
       "44  Район Орехово-Борисово Северное  \n",
       "45      Район Чертаново Центральное  \n",
       "46         Район Чертаново Северное  \n",
       "47            Район Чертаново Южное  "
      ]
     },
     "execution_count": 32,
     "metadata": {},
     "output_type": "execute_result"
    }
   ],
   "source": [
    "top_ten = test_merge.merge(districts, on='streetname', how='inner')\n",
    "top_ten"
   ]
  },
  {
   "cell_type": "markdown",
   "id": "fbad8ff2",
   "metadata": {},
   "source": [
    "Из таблицы видно что наиболее \"успешные\" улицы, с большим количеством заведений - это большие шоссе, проходящие через некоторое количество различных районов.  "
   ]
  },
  {
   "cell_type": "markdown",
   "id": "bfa3fb4f",
   "metadata": {},
   "source": [
    "## Число улиц с одним объектом общественного питания"
   ]
  },
  {
   "cell_type": "code",
   "execution_count": 33,
   "id": "7b502969",
   "metadata": {},
   "outputs": [
    {
     "data": {
      "text/plain": [
       "streetname    551\n",
       "obj_amount    551\n",
       "dtype: int64"
      ]
     },
     "execution_count": 33,
     "metadata": {},
     "output_type": "execute_result"
    }
   ],
   "source": [
    "# посмотрим сколько улиц, на которых всего по одному объекту\n",
    "one_object_data = (data\n",
    "    .groupby('street', as_index=False)['id']\n",
    "    .agg('count')\n",
    "    .sort_values(by='id')\n",
    "    .reset_index(drop=True)\n",
    "    .rename(columns={'street' : 'streetname',\n",
    "                     'id' : 'obj_amount'})\n",
    "    .query('obj_amount == 1')\n",
    "                  )\n",
    "one_object_data.count()"
   ]
  },
  {
   "cell_type": "code",
   "execution_count": 34,
   "id": "f51aef5b",
   "metadata": {},
   "outputs": [
    {
     "data": {
      "text/html": [
       "<div>\n",
       "<style scoped>\n",
       "    .dataframe tbody tr th:only-of-type {\n",
       "        vertical-align: middle;\n",
       "    }\n",
       "\n",
       "    .dataframe tbody tr th {\n",
       "        vertical-align: top;\n",
       "    }\n",
       "\n",
       "    .dataframe thead th {\n",
       "        text-align: right;\n",
       "    }\n",
       "</style>\n",
       "<table border=\"1\" class=\"dataframe\">\n",
       "  <thead>\n",
       "    <tr style=\"text-align: right;\">\n",
       "      <th></th>\n",
       "      <th>streetname</th>\n",
       "      <th>obj_amount</th>\n",
       "      <th>areaid</th>\n",
       "      <th>okrug</th>\n",
       "      <th>area</th>\n",
       "    </tr>\n",
       "  </thead>\n",
       "  <tbody>\n",
       "    <tr>\n",
       "      <th>0</th>\n",
       "      <td>Перовский проезд</td>\n",
       "      <td>1</td>\n",
       "      <td>114</td>\n",
       "      <td>ЮВАО</td>\n",
       "      <td>Район Лефортово</td>\n",
       "    </tr>\n",
       "    <tr>\n",
       "      <th>1</th>\n",
       "      <td>Перовский проезд</td>\n",
       "      <td>1</td>\n",
       "      <td>117</td>\n",
       "      <td>ЮВАО</td>\n",
       "      <td>Нижегородский район</td>\n",
       "    </tr>\n",
       "    <tr>\n",
       "      <th>2</th>\n",
       "      <td>Измайловская площадь</td>\n",
       "      <td>1</td>\n",
       "      <td>27</td>\n",
       "      <td>ВАО</td>\n",
       "      <td>Район Измайлово</td>\n",
       "    </tr>\n",
       "    <tr>\n",
       "      <th>3</th>\n",
       "      <td>переулок Красина</td>\n",
       "      <td>1</td>\n",
       "      <td>17</td>\n",
       "      <td>ЦАО</td>\n",
       "      <td>Пресненский район</td>\n",
       "    </tr>\n",
       "    <tr>\n",
       "      <th>4</th>\n",
       "      <td>переулок Васнецова</td>\n",
       "      <td>1</td>\n",
       "      <td>16</td>\n",
       "      <td>ЦАО</td>\n",
       "      <td>Мещанский район</td>\n",
       "    </tr>\n",
       "  </tbody>\n",
       "</table>\n",
       "</div>"
      ],
      "text/plain": [
       "             streetname  obj_amount  areaid okrug                 area\n",
       "0      Перовский проезд           1     114  ЮВАО      Район Лефортово\n",
       "1      Перовский проезд           1     117  ЮВАО  Нижегородский район\n",
       "2  Измайловская площадь           1      27   ВАО      Район Измайлово\n",
       "3      переулок Красина           1      17   ЦАО    Пресненский район\n",
       "4    переулок Васнецова           1      16   ЦАО      Мещанский район"
      ]
     },
     "execution_count": 34,
     "metadata": {},
     "output_type": "execute_result"
    }
   ],
   "source": [
    "# соберем одну таблицу, в которой улице из нашего списка будут соответствовать округ и\n",
    "# район\n",
    "one_ob_distr = one_object_data.merge(districts, on='streetname', how='inner')\n",
    "one_ob_distr.head()"
   ]
  },
  {
   "cell_type": "code",
   "execution_count": 35,
   "id": "83ec9bfd",
   "metadata": {},
   "outputs": [
    {
     "data": {
      "text/html": [
       "<div>\n",
       "<style scoped>\n",
       "    .dataframe tbody tr th:only-of-type {\n",
       "        vertical-align: middle;\n",
       "    }\n",
       "\n",
       "    .dataframe tbody tr th {\n",
       "        vertical-align: top;\n",
       "    }\n",
       "\n",
       "    .dataframe thead th {\n",
       "        text-align: right;\n",
       "    }\n",
       "</style>\n",
       "<table border=\"1\" class=\"dataframe\">\n",
       "  <thead>\n",
       "    <tr style=\"text-align: right;\">\n",
       "      <th></th>\n",
       "      <th>streetname</th>\n",
       "      <th>area</th>\n",
       "    </tr>\n",
       "    <tr>\n",
       "      <th>okrug</th>\n",
       "      <th></th>\n",
       "      <th></th>\n",
       "    </tr>\n",
       "  </thead>\n",
       "  <tbody>\n",
       "    <tr>\n",
       "      <th>ВАО</th>\n",
       "      <td>59</td>\n",
       "      <td>14</td>\n",
       "    </tr>\n",
       "    <tr>\n",
       "      <th>ЗАО</th>\n",
       "      <td>45</td>\n",
       "      <td>10</td>\n",
       "    </tr>\n",
       "    <tr>\n",
       "      <th>Зеленоград</th>\n",
       "      <td>5</td>\n",
       "      <td>3</td>\n",
       "    </tr>\n",
       "    <tr>\n",
       "      <th>САО</th>\n",
       "      <td>50</td>\n",
       "      <td>14</td>\n",
       "    </tr>\n",
       "    <tr>\n",
       "      <th>СВАО</th>\n",
       "      <td>65</td>\n",
       "      <td>15</td>\n",
       "    </tr>\n",
       "    <tr>\n",
       "      <th>СЗАО</th>\n",
       "      <td>27</td>\n",
       "      <td>7</td>\n",
       "    </tr>\n",
       "    <tr>\n",
       "      <th>ЦАО</th>\n",
       "      <td>175</td>\n",
       "      <td>10</td>\n",
       "    </tr>\n",
       "    <tr>\n",
       "      <th>ЮАО</th>\n",
       "      <td>27</td>\n",
       "      <td>8</td>\n",
       "    </tr>\n",
       "    <tr>\n",
       "      <th>ЮВАО</th>\n",
       "      <td>52</td>\n",
       "      <td>10</td>\n",
       "    </tr>\n",
       "    <tr>\n",
       "      <th>ЮЗАО</th>\n",
       "      <td>27</td>\n",
       "      <td>9</td>\n",
       "    </tr>\n",
       "  </tbody>\n",
       "</table>\n",
       "</div>"
      ],
      "text/plain": [
       "            streetname  area\n",
       "okrug                       \n",
       "ВАО                 59    14\n",
       "ЗАО                 45    10\n",
       "Зеленоград           5     3\n",
       "САО                 50    14\n",
       "СВАО                65    15\n",
       "СЗАО                27     7\n",
       "ЦАО                175    10\n",
       "ЮАО                 27     8\n",
       "ЮВАО                52    10\n",
       "ЮЗАО                27     9"
      ]
     },
     "execution_count": 35,
     "metadata": {},
     "output_type": "execute_result"
    }
   ],
   "source": [
    "# посмотрим в каком из округов больше всего единичных заведений\n",
    "one_ob_distr.groupby('okrug')[['streetname','area']].nunique()"
   ]
  },
  {
   "cell_type": "markdown",
   "id": "14b36ba5",
   "metadata": {},
   "source": [
    "большее количество улиц с ресторанами \"одиночками\" находятся именно в центре, поскольку именно в центре самые высокие арендные ставки, но и самые высокие потоки людей. Плюс, в связи с старой застройкой данной части города там присутствует большое количество небольших улиц."
   ]
  },
  {
   "cell_type": "markdown",
   "id": "8035c14e",
   "metadata": {},
   "source": [
    "## Распределение количества посадочных мест для улиц с большим количеством объектов общественного питания."
   ]
  },
  {
   "cell_type": "code",
   "execution_count": 36,
   "id": "abba6cf8",
   "metadata": {},
   "outputs": [],
   "source": [
    "# сформируем лист из 10ти улиц\n",
    "compare = list(test_merge['streetname'])\n",
    "# передадим его для фильтрации \n",
    "data_test = data.query('street in @compare & number <= 200')"
   ]
  },
  {
   "cell_type": "code",
   "execution_count": 37,
   "id": "8f600c77",
   "metadata": {},
   "outputs": [
    {
     "data": {
      "image/png": "[encoded data removed]",
      "text/plain": [
       "<Figure size 720x360 with 1 Axes>"
      ]
     },
     "metadata": {
      "needs_background": "light"
     },
     "output_type": "display_data"
    }
   ],
   "source": [
    "plt.figure(figsize=(10,5))\n",
    "#ax = sns.stripplot(x='street', y='number', data=data_test, color='black')\n",
    "ax = sns.boxplot(x='number', y='street', data=data_test, palette='mako')\n",
    "\n",
    "plt.xlabel('Количество посадочных мест')\n",
    "plt.ylabel('Улица')\n",
    "plt.show()"
   ]
  },
  {
   "cell_type": "markdown",
   "id": "77f7b3bc",
   "metadata": {},
   "source": [
    "Исходя из графика можно сделать вывод, что медианные значения всех заведений, которые находятся на рассматриваемых десяти наиболее успешных улицах имеют примерно одинаковые значаения - от 25 до 50 посадочных мест."
   ]
  },
  {
   "cell_type": "markdown",
   "id": "c92c8441",
   "metadata": {},
   "source": [
    "**ВЫВОДЫ**\n",
    "* Следует рассмотреть возможность открытия заведения в помещении с небольшой площадью и небольшим количеством посадочных мест (до 50 мест)\n",
    "* Следует рассмотреть возможность развития заведения в сеть\n",
    "* Следует размещать заведение вдоль больших автомобильных дорог (шоссе) на которых большой пассажиро-поток \n",
    "* Оптимальным выбором места для нового заведения - в пределах 3его транспортного кольца\n",
    "* Поскольку заведений типа \"кафе\" в разы больше остальных, может возникнуть конкуренция, таким образом можно остановить выбор на тех типах заведений, число которых не столь велико (закусочная, кафетерий, бар) "
   ]
  },
  {
   "cell_type": "markdown",
   "id": "f0a07183",
   "metadata": {},
   "source": [
    "Ссылка на презентацию:\n",
    "https://drive.google.com/file/d/1V4Say-kfZCgJ3Yj3_Lk-3614gIj2kmTB/view?usp=sharing"
   ]
  }
 ],
 "metadata": {
  "ExecuteTimeLog": [
   {
    "duration": 1170,
    "start_time": "2022-05-13T12:37:45.302Z"
   },
   {
    "duration": 292,
    "start_time": "2022-05-13T12:37:47.566Z"
   },
   {
    "duration": 1228,
    "start_time": "2022-05-13T12:37:52.657Z"
   },
   {
    "duration": 53,
    "start_time": "2022-05-13T12:37:53.887Z"
   },
   {
    "duration": 12,
    "start_time": "2022-05-13T12:37:53.942Z"
   },
   {
    "duration": 22,
    "start_time": "2022-05-13T12:37:53.955Z"
   },
   {
    "duration": 27,
    "start_time": "2022-05-13T12:37:53.979Z"
   },
   {
    "duration": 17,
    "start_time": "2022-05-13T12:37:54.008Z"
   },
   {
    "duration": 18,
    "start_time": "2022-05-13T12:37:54.026Z"
   },
   {
    "duration": 13,
    "start_time": "2022-05-13T12:37:54.045Z"
   },
   {
    "duration": 373,
    "start_time": "2022-05-13T12:37:54.059Z"
   },
   {
    "duration": 5,
    "start_time": "2022-05-13T12:37:54.433Z"
   },
   {
    "duration": 35,
    "start_time": "2022-05-13T12:37:54.439Z"
   },
   {
    "duration": 29,
    "start_time": "2022-05-13T12:37:54.476Z"
   },
   {
    "duration": 7,
    "start_time": "2022-05-13T12:37:54.507Z"
   },
   {
    "duration": 186,
    "start_time": "2022-05-13T12:37:54.516Z"
   },
   {
    "duration": 9,
    "start_time": "2022-05-13T12:37:54.703Z"
   },
   {
    "duration": 124,
    "start_time": "2022-05-13T12:37:54.714Z"
   },
   {
    "duration": 20,
    "start_time": "2022-05-13T12:37:54.840Z"
   },
   {
    "duration": 1844,
    "start_time": "2022-05-13T12:37:54.861Z"
   },
   {
    "duration": 5,
    "start_time": "2022-05-13T12:37:56.706Z"
   },
   {
    "duration": 19,
    "start_time": "2022-05-13T12:37:56.713Z"
   },
   {
    "duration": 12,
    "start_time": "2022-05-13T12:37:56.733Z"
   },
   {
    "duration": 7,
    "start_time": "2022-05-13T12:37:56.746Z"
   },
   {
    "duration": 1342,
    "start_time": "2022-05-13T12:37:56.754Z"
   },
   {
    "duration": 180,
    "start_time": "2022-05-13T12:37:58.097Z"
   },
   {
    "duration": 92,
    "start_time": "2022-05-13T12:37:58.279Z"
   },
   {
    "duration": 1228,
    "start_time": "2022-05-13T12:37:58.372Z"
   },
   {
    "duration": 187,
    "start_time": "2022-05-13T12:37:59.602Z"
   },
   {
    "duration": 0,
    "start_time": "2022-05-13T12:37:59.792Z"
   },
   {
    "duration": 0,
    "start_time": "2022-05-13T12:37:59.793Z"
   },
   {
    "duration": 0,
    "start_time": "2022-05-13T12:37:59.800Z"
   },
   {
    "duration": 0,
    "start_time": "2022-05-13T12:37:59.802Z"
   },
   {
    "duration": 0,
    "start_time": "2022-05-13T12:37:59.803Z"
   },
   {
    "duration": 0,
    "start_time": "2022-05-13T12:37:59.804Z"
   },
   {
    "duration": 0,
    "start_time": "2022-05-13T12:37:59.806Z"
   },
   {
    "duration": 1955,
    "start_time": "2022-05-16T14:56:49.926Z"
   },
   {
    "duration": 197,
    "start_time": "2022-05-16T14:56:51.885Z"
   },
   {
    "duration": 21,
    "start_time": "2022-05-16T14:56:52.085Z"
   },
   {
    "duration": 53,
    "start_time": "2022-05-16T14:56:52.108Z"
   },
   {
    "duration": 16,
    "start_time": "2022-05-16T14:56:52.164Z"
   },
   {
    "duration": 31,
    "start_time": "2022-05-16T14:56:52.182Z"
   },
   {
    "duration": 58,
    "start_time": "2022-05-16T14:56:52.215Z"
   },
   {
    "duration": 19,
    "start_time": "2022-05-16T14:56:52.275Z"
   },
   {
    "duration": 576,
    "start_time": "2022-05-16T14:56:52.297Z"
   },
   {
    "duration": 9,
    "start_time": "2022-05-16T14:56:52.876Z"
   },
   {
    "duration": 94,
    "start_time": "2022-05-16T14:56:52.887Z"
   },
   {
    "duration": 11,
    "start_time": "2022-05-16T14:56:52.984Z"
   },
   {
    "duration": 14,
    "start_time": "2022-05-16T14:56:52.998Z"
   },
   {
    "duration": 511,
    "start_time": "2022-05-16T14:56:53.020Z"
   },
   {
    "duration": 31,
    "start_time": "2022-05-16T14:56:53.535Z"
   },
   {
    "duration": 277,
    "start_time": "2022-05-16T14:56:53.569Z"
   },
   {
    "duration": 31,
    "start_time": "2022-05-16T14:56:53.856Z"
   },
   {
    "duration": 3241,
    "start_time": "2022-05-16T14:56:53.890Z"
   },
   {
    "duration": 8,
    "start_time": "2022-05-16T14:56:57.134Z"
   },
   {
    "duration": 17,
    "start_time": "2022-05-16T14:56:57.157Z"
   },
   {
    "duration": 14,
    "start_time": "2022-05-16T14:56:57.176Z"
   },
   {
    "duration": 9,
    "start_time": "2022-05-16T14:56:57.193Z"
   },
   {
    "duration": 1913,
    "start_time": "2022-05-16T14:56:57.205Z"
   },
   {
    "duration": 323,
    "start_time": "2022-05-16T14:56:59.121Z"
   },
   {
    "duration": 143,
    "start_time": "2022-05-16T14:56:59.446Z"
   },
   {
    "duration": 1706,
    "start_time": "2022-05-16T14:56:59.592Z"
   },
   {
    "duration": 1033,
    "start_time": "2022-05-16T14:57:01.300Z"
   },
   {
    "duration": 3,
    "start_time": "2022-05-16T14:57:02.336Z"
   },
   {
    "duration": 52,
    "start_time": "2022-05-16T14:57:02.341Z"
   },
   {
    "duration": 25,
    "start_time": "2022-05-16T14:57:02.396Z"
   },
   {
    "duration": 22,
    "start_time": "2022-05-16T14:57:02.423Z"
   },
   {
    "duration": 23,
    "start_time": "2022-05-16T14:57:02.447Z"
   },
   {
    "duration": 17,
    "start_time": "2022-05-16T14:57:02.472Z"
   },
   {
    "duration": 10,
    "start_time": "2022-05-16T14:57:02.491Z"
   },
   {
    "duration": 462,
    "start_time": "2022-05-16T14:57:02.503Z"
   },
   {
    "duration": 48,
    "start_time": "2022-05-16T18:34:51.257Z"
   },
   {
    "duration": 1368,
    "start_time": "2022-05-16T18:34:57.915Z"
   },
   {
    "duration": 49,
    "start_time": "2022-05-16T18:34:59.286Z"
   },
   {
    "duration": 21,
    "start_time": "2022-05-16T18:34:59.337Z"
   },
   {
    "duration": 28,
    "start_time": "2022-05-16T18:34:59.360Z"
   },
   {
    "duration": 10,
    "start_time": "2022-05-16T18:34:59.391Z"
   },
   {
    "duration": 19,
    "start_time": "2022-05-16T18:34:59.403Z"
   },
   {
    "duration": 27,
    "start_time": "2022-05-16T18:34:59.450Z"
   },
   {
    "duration": 14,
    "start_time": "2022-05-16T18:34:59.479Z"
   },
   {
    "duration": 473,
    "start_time": "2022-05-16T18:34:59.495Z"
   },
   {
    "duration": 6,
    "start_time": "2022-05-16T18:34:59.969Z"
   },
   {
    "duration": 35,
    "start_time": "2022-05-16T18:34:59.977Z"
   },
   {
    "duration": 33,
    "start_time": "2022-05-16T18:35:00.014Z"
   },
   {
    "duration": 10,
    "start_time": "2022-05-16T18:35:00.049Z"
   },
   {
    "duration": 284,
    "start_time": "2022-05-16T18:35:00.062Z"
   },
   {
    "duration": 16,
    "start_time": "2022-05-16T18:35:00.348Z"
   },
   {
    "duration": 164,
    "start_time": "2022-05-16T18:35:00.366Z"
   },
   {
    "duration": 29,
    "start_time": "2022-05-16T18:35:00.532Z"
   },
   {
    "duration": 1814,
    "start_time": "2022-05-16T18:35:00.563Z"
   },
   {
    "duration": 7,
    "start_time": "2022-05-16T18:35:02.379Z"
   },
   {
    "duration": 37,
    "start_time": "2022-05-16T18:35:02.388Z"
   },
   {
    "duration": 29,
    "start_time": "2022-05-16T18:35:02.427Z"
   },
   {
    "duration": 46,
    "start_time": "2022-05-16T18:35:02.458Z"
   },
   {
    "duration": 1105,
    "start_time": "2022-05-16T18:35:02.507Z"
   },
   {
    "duration": 261,
    "start_time": "2022-05-16T18:35:03.614Z"
   },
   {
    "duration": 102,
    "start_time": "2022-05-16T18:35:03.877Z"
   },
   {
    "duration": 1407,
    "start_time": "2022-05-16T18:35:03.981Z"
   },
   {
    "duration": 1093,
    "start_time": "2022-05-16T18:35:05.390Z"
   },
   {
    "duration": 4,
    "start_time": "2022-05-16T18:35:06.485Z"
   },
   {
    "duration": 17,
    "start_time": "2022-05-16T18:35:06.491Z"
   },
   {
    "duration": 37,
    "start_time": "2022-05-16T18:35:06.510Z"
   },
   {
    "duration": 18,
    "start_time": "2022-05-16T18:35:06.549Z"
   },
   {
    "duration": 12,
    "start_time": "2022-05-16T18:35:06.569Z"
   },
   {
    "duration": 12,
    "start_time": "2022-05-16T18:35:06.583Z"
   },
   {
    "duration": 9,
    "start_time": "2022-05-16T18:35:06.597Z"
   },
   {
    "duration": 310,
    "start_time": "2022-05-16T18:35:06.608Z"
   },
   {
    "duration": 9,
    "start_time": "2022-05-16T18:35:17.776Z"
   },
   {
    "duration": 1625,
    "start_time": "2022-05-17T13:25:45.383Z"
   },
   {
    "duration": 70,
    "start_time": "2022-05-17T13:25:47.010Z"
   },
   {
    "duration": 18,
    "start_time": "2022-05-17T13:25:47.082Z"
   },
   {
    "duration": 32,
    "start_time": "2022-05-17T13:25:47.103Z"
   },
   {
    "duration": 46,
    "start_time": "2022-05-17T13:25:47.138Z"
   },
   {
    "duration": 27,
    "start_time": "2022-05-17T13:25:47.187Z"
   },
   {
    "duration": 62,
    "start_time": "2022-05-17T13:25:47.217Z"
   },
   {
    "duration": 20,
    "start_time": "2022-05-17T13:25:47.282Z"
   },
   {
    "duration": 593,
    "start_time": "2022-05-17T13:25:47.305Z"
   },
   {
    "duration": 8,
    "start_time": "2022-05-17T13:25:47.904Z"
   },
   {
    "duration": 80,
    "start_time": "2022-05-17T13:25:47.915Z"
   },
   {
    "duration": 10,
    "start_time": "2022-05-17T13:25:47.998Z"
   },
   {
    "duration": 17,
    "start_time": "2022-05-17T13:25:48.010Z"
   },
   {
    "duration": 61,
    "start_time": "2022-05-17T13:25:48.029Z"
   },
   {
    "duration": 10,
    "start_time": "2022-05-17T13:25:48.093Z"
   },
   {
    "duration": 341,
    "start_time": "2022-05-17T13:25:48.106Z"
   },
   {
    "duration": 14,
    "start_time": "2022-05-17T13:25:48.449Z"
   },
   {
    "duration": 219,
    "start_time": "2022-05-17T13:25:48.479Z"
   },
   {
    "duration": 32,
    "start_time": "2022-05-17T13:25:48.700Z"
   },
   {
    "duration": 3352,
    "start_time": "2022-05-17T13:25:48.734Z"
   },
   {
    "duration": 9,
    "start_time": "2022-05-17T13:25:52.088Z"
   },
   {
    "duration": 23,
    "start_time": "2022-05-17T13:25:52.099Z"
   },
   {
    "duration": 14,
    "start_time": "2022-05-17T13:25:52.124Z"
   },
   {
    "duration": 44,
    "start_time": "2022-05-17T13:25:52.140Z"
   },
   {
    "duration": 2351,
    "start_time": "2022-05-17T13:25:52.187Z"
   },
   {
    "duration": 327,
    "start_time": "2022-05-17T13:25:54.540Z"
   },
   {
    "duration": 147,
    "start_time": "2022-05-17T13:25:54.869Z"
   },
   {
    "duration": 1710,
    "start_time": "2022-05-17T13:25:55.021Z"
   },
   {
    "duration": 1256,
    "start_time": "2022-05-17T13:25:56.733Z"
   },
   {
    "duration": 22,
    "start_time": "2022-05-17T13:25:57.992Z"
   },
   {
    "duration": 26,
    "start_time": "2022-05-17T13:25:58.016Z"
   },
   {
    "duration": 49,
    "start_time": "2022-05-17T13:25:58.044Z"
   },
   {
    "duration": 18,
    "start_time": "2022-05-17T13:25:58.095Z"
   },
   {
    "duration": 16,
    "start_time": "2022-05-17T13:25:58.115Z"
   },
   {
    "duration": 47,
    "start_time": "2022-05-17T13:25:58.133Z"
   },
   {
    "duration": 432,
    "start_time": "2022-05-17T13:25:58.182Z"
   },
   {
    "duration": 122,
    "start_time": "2022-05-17T13:26:51.939Z"
   },
   {
    "duration": 100,
    "start_time": "2022-05-17T13:26:56.304Z"
   },
   {
    "duration": 104,
    "start_time": "2022-05-17T13:27:00.370Z"
   },
   {
    "duration": 47,
    "start_time": "2022-05-17T13:27:20.760Z"
   },
   {
    "duration": 49,
    "start_time": "2022-05-17T13:28:12.164Z"
   },
   {
    "duration": 55,
    "start_time": "2022-05-17T13:28:25.957Z"
   }
  ],
  "kernelspec": {
   "display_name": "Python 3 (ipykernel)",
   "language": "python",
   "name": "python3"
  },
  "language_info": {
   "codemirror_mode": {
    "name": "ipython",
    "version": 3
   },
   "file_extension": ".py",
   "mimetype": "text/x-python",
   "name": "python",
   "nbconvert_exporter": "python",
   "pygments_lexer": "ipython3",
   "version": "3.9.7"
  },
  "toc": {
   "base_numbering": 1,
   "nav_menu": {},
   "number_sections": true,
   "sideBar": true,
   "skip_h1_title": false,
   "title_cell": "Table of Contents",
   "title_sidebar": "Contents",
   "toc_cell": false,
   "toc_position": {},
   "toc_section_display": true,
   "toc_window_display": false
  }
 },
 "nbformat": 4,
 "nbformat_minor": 5
}
